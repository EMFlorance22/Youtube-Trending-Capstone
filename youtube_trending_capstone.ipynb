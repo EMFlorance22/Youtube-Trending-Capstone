{
  "nbformat": 4,
  "nbformat_minor": 0,
  "metadata": {
    "colab": {
      "provenance": [],
      "collapsed_sections": []
    },
    "kernelspec": {
      "name": "python3",
      "display_name": "Python 3"
    },
    "language_info": {
      "name": "python"
    }
  },
  "cells": [
    {
      "cell_type": "code",
      "execution_count": null,
      "metadata": {
        "colab": {
          "base_uri": "https://localhost:8080/"
        },
        "id": "IqwkHK7yn9gL",
        "outputId": "d403092d-cf0d-448f-9241-4f7a663528ae"
      },
      "outputs": [
        {
          "output_type": "stream",
          "name": "stdout",
          "text": [
            "Get:1 http://security.ubuntu.com/ubuntu bionic-security InRelease [88.7 kB]\n",
            "Hit:2 https://cloud.r-project.org/bin/linux/ubuntu bionic-cran40/ InRelease\n",
            "Hit:3 http://ppa.launchpad.net/c2d4u.team/c2d4u4.0+/ubuntu bionic InRelease\n",
            "Hit:4 http://archive.ubuntu.com/ubuntu bionic InRelease\n",
            "Get:5 http://archive.ubuntu.com/ubuntu bionic-updates InRelease [88.7 kB]\n",
            "Hit:6 http://ppa.launchpad.net/cran/libgit2/ubuntu bionic InRelease\n",
            "Hit:7 http://ppa.launchpad.net/deadsnakes/ppa/ubuntu bionic InRelease\n",
            "Get:8 http://archive.ubuntu.com/ubuntu bionic-backports InRelease [74.6 kB]\n",
            "Hit:9 https://developer.download.nvidia.com/compute/cuda/repos/ubuntu1804/x86_64  InRelease\n",
            "Hit:10 http://ppa.launchpad.net/graphics-drivers/ppa/ubuntu bionic InRelease\n",
            "Ign:11 https://developer.download.nvidia.com/compute/machine-learning/repos/ubuntu1804/x86_64  InRelease\n",
            "Hit:12 https://developer.download.nvidia.com/compute/machine-learning/repos/ubuntu1804/x86_64  Release\n",
            "Get:13 http://archive.ubuntu.com/ubuntu bionic-updates/restricted amd64 Packages [1,109 kB]\n",
            "Fetched 1,361 kB in 3s (438 kB/s)\n",
            "Reading package lists... Done\n",
            "Looking in indexes: https://pypi.org/simple, https://us-python.pkg.dev/colab-wheels/public/simple/\n",
            "Requirement already satisfied: pytrends in /root/.local/lib/python3.7/site-packages (4.7.4)\n",
            "Requirement already satisfied: lxml in /usr/local/lib/python3.7/dist-packages (from pytrends) (4.9.1)\n",
            "Requirement already satisfied: pandas>=0.25 in /usr/local/lib/python3.7/dist-packages (from pytrends) (1.3.5)\n",
            "Requirement already satisfied: requests>=2.0 in /usr/local/lib/python3.7/dist-packages (from pytrends) (2.23.0)\n",
            "Requirement already satisfied: python-dateutil>=2.7.3 in /usr/local/lib/python3.7/dist-packages (from pandas>=0.25->pytrends) (2.8.2)\n",
            "Requirement already satisfied: pytz>=2017.3 in /usr/local/lib/python3.7/dist-packages (from pandas>=0.25->pytrends) (2022.1)\n",
            "Requirement already satisfied: numpy>=1.17.3 in /usr/local/lib/python3.7/dist-packages (from pandas>=0.25->pytrends) (1.21.6)\n",
            "Requirement already satisfied: six>=1.5 in /usr/local/lib/python3.7/dist-packages (from python-dateutil>=2.7.3->pandas>=0.25->pytrends) (1.15.0)\n",
            "Requirement already satisfied: chardet<4,>=3.0.2 in /usr/local/lib/python3.7/dist-packages (from requests>=2.0->pytrends) (3.0.4)\n",
            "Requirement already satisfied: urllib3!=1.25.0,!=1.25.1,<1.26,>=1.21.1 in /usr/local/lib/python3.7/dist-packages (from requests>=2.0->pytrends) (1.24.3)\n",
            "Requirement already satisfied: idna<3,>=2.5 in /usr/local/lib/python3.7/dist-packages (from requests>=2.0->pytrends) (2.10)\n",
            "Requirement already satisfied: certifi>=2017.4.17 in /usr/local/lib/python3.7/dist-packages (from requests>=2.0->pytrends) (2022.6.15)\n",
            "Looking in indexes: https://pypi.org/simple, https://us-python.pkg.dev/colab-wheels/public/simple/\n",
            "Collecting git+https://github.com/GeneralMills/pytrends\n",
            "  Cloning https://github.com/GeneralMills/pytrends to /tmp/pip-req-build-i8xygipj\n",
            "  Running command git clone -q https://github.com/GeneralMills/pytrends /tmp/pip-req-build-i8xygipj\n",
            "Requirement already satisfied: requests>=2.0 in /usr/local/lib/python3.7/dist-packages (from pytrends==4.7.4) (2.23.0)\n",
            "Requirement already satisfied: pandas>=0.25 in /usr/local/lib/python3.7/dist-packages (from pytrends==4.7.4) (1.3.5)\n",
            "Requirement already satisfied: lxml in /usr/local/lib/python3.7/dist-packages (from pytrends==4.7.4) (4.9.1)\n",
            "Requirement already satisfied: pytz>=2017.3 in /usr/local/lib/python3.7/dist-packages (from pandas>=0.25->pytrends==4.7.4) (2022.1)\n",
            "Requirement already satisfied: numpy>=1.17.3 in /usr/local/lib/python3.7/dist-packages (from pandas>=0.25->pytrends==4.7.4) (1.21.6)\n",
            "Requirement already satisfied: python-dateutil>=2.7.3 in /usr/local/lib/python3.7/dist-packages (from pandas>=0.25->pytrends==4.7.4) (2.8.2)\n",
            "Requirement already satisfied: six>=1.5 in /usr/local/lib/python3.7/dist-packages (from python-dateutil>=2.7.3->pandas>=0.25->pytrends==4.7.4) (1.15.0)\n",
            "Requirement already satisfied: urllib3!=1.25.0,!=1.25.1,<1.26,>=1.21.1 in /usr/local/lib/python3.7/dist-packages (from requests>=2.0->pytrends==4.7.4) (1.24.3)\n",
            "Requirement already satisfied: chardet<4,>=3.0.2 in /usr/local/lib/python3.7/dist-packages (from requests>=2.0->pytrends==4.7.4) (3.0.4)\n",
            "Requirement already satisfied: idna<3,>=2.5 in /usr/local/lib/python3.7/dist-packages (from requests>=2.0->pytrends==4.7.4) (2.10)\n",
            "Requirement already satisfied: certifi>=2017.4.17 in /usr/local/lib/python3.7/dist-packages (from requests>=2.0->pytrends==4.7.4) (2022.6.15)\n"
          ]
        }
      ],
      "source": [
        "# Setting up the PySpark environment\n",
        "\n",
        "# Install java 8\n",
        "!apt-get update\n",
        "!apt-get install openjdk-8-jdk-headless -qq > /dev/null\n",
        "\n",
        "# Download Apache Spark binary: This link can change based on the version. Update this link with the latest version before using\n",
        "!wget -q https://downloads.apache.org/spark/spark-3.3.0/spark-3.3.0-bin-hadoop2.tgz\n",
        "\n",
        "# Unzip file\n",
        "!tar -xf spark-3.3.0-bin-hadoop2.tgz\n",
        "\n",
        "# Install findspark: Adds Pyspark to sys.path at runtime\n",
        "#!pip install -q findspark\n",
        "\n",
        "# Install pyspark and SparkNLP\n",
        "!pip install -q pyspark==3.3.0 spark-nlp==4.0.1\n",
        "\n",
        "# Install pytrends- Google Trends API\n",
        "!pip install pytrends\n",
        "!pip install --upgrade --user git+https://github.com/GeneralMills/pytrends\n",
        "\n",
        "# Add environmental variables\n",
        "import os\n",
        "os.environ[\"JAVA_HOME\"] = \"/usr/lib/jvm/java-8-openjdk-amd64\"\n",
        "os.environ[\"SPARK_HOME\"] = \"/content/spark-3.3.0-bin-hadoop2\"\n",
        "\n",
        "# findspark will locate spark in the system\n",
        "#import findspark\n",
        "#findspark.init()"
      ]
    },
    {
      "cell_type": "code",
      "source": [
        "# Initialize a SparkSession to use a sparkContext\n",
        "from pyspark.sql import SparkSession\n",
        "\n",
        "spark = SparkSession \\\n",
        "    .builder \\\n",
        "    .appName(\"The Trends of Youtube Capstone Project\") \\\n",
        "    .config(\"spark.some.config.option\", \"some-value\") \\\n",
        "    .getOrCreate()"
      ],
      "metadata": {
        "id": "a1Tl1eGooHHa"
      },
      "execution_count": null,
      "outputs": []
    },
    {
      "cell_type": "code",
      "source": [
        "# Show the sparkContext we will use\n",
        "sc = spark.sparkContext\n",
        "sc"
      ],
      "metadata": {
        "colab": {
          "base_uri": "https://localhost:8080/",
          "height": 196
        },
        "id": "kWCkvhiKqT48",
        "outputId": "2c363f58-dc8a-44bc-e510-21879b554860"
      },
      "execution_count": null,
      "outputs": [
        {
          "output_type": "execute_result",
          "data": {
            "text/plain": [
              "<SparkContext master=local[*] appName=The Trends of Youtube Capstone Project>"
            ],
            "text/html": [
              "\n",
              "        <div>\n",
              "            <p><b>SparkContext</b></p>\n",
              "\n",
              "            <p><a href=\"http://638e4228c148:4040\">Spark UI</a></p>\n",
              "\n",
              "            <dl>\n",
              "              <dt>Version</dt>\n",
              "                <dd><code>v3.3.0</code></dd>\n",
              "              <dt>Master</dt>\n",
              "                <dd><code>local[*]</code></dd>\n",
              "              <dt>AppName</dt>\n",
              "                <dd><code>The Trends of Youtube Capstone Project</code></dd>\n",
              "            </dl>\n",
              "        </div>\n",
              "        "
            ]
          },
          "metadata": {},
          "execution_count": 14
        }
      ]
    },
    {
      "cell_type": "code",
      "source": [
        "# Load in the data sets into a spark Dataframe\n",
        "#ca_df = spark.read.csv(\"Youtube Data/CAvideos.csv\", inferSchema = True, header = True)\n",
        "#de_df = spark.read.csv(\"Youtube Data/DEvideos.csv\", inferSchema = True, header = True)\n",
        "#fr_df = spark.read.csv(\"Youtube Data/FRvideos.csv\", inferSchema = True, header = True)\n",
        "#gb_df = spark.read.csv(\"Youtube Data/GBvideos.csv\", inferSchema = True, header = True)\n",
        "#jp_df = spark.read.csv(\"Youtube Data/JPvideos.csv\", inferSchema = True, header = True)\n",
        "#kr_df = spark.read.csv(\"Youtube Data/KRvideos.csv\", inferSchema = True, header = True)\n",
        "#mx_df = spark.read.csv(\"Youtube Data/MXvideos.csv\", inferSchema = True, header = True)\n",
        "us_df = spark.read.csv(\"USvideos.csv\", inferSchema = False, header = True)\n",
        "\n",
        "#ca_id = spark.read.json(\"Youtube Data/CA_category_id.json\")\n",
        "#de_id = spark.read.csv(\"Youtube Data/DE_category_id.json\")\n",
        "#fr_id = spark.read.csv(\"Youtube Data/FR_category_id.json\")\n",
        "#gb_id = spark.read.csv(\"Youtube Data/GB_category_id.json\")\n",
        "#jp_id = spark.read.csv(\"Youtube Data/JP_category_id.json\")\n",
        "#kr_id = spark.read.csv(\"Youtube Data/KR_category_id.json\")\n",
        "#mx_id = spark.read.csv(\"Youtube Data/MX_category_id.json\")\n",
        "us_id = spark.read.csv(\"US_category_id.json\")\n",
        "us_df.cache() # Cache the dataframes to speed up later computations"
      ],
      "metadata": {
        "colab": {
          "base_uri": "https://localhost:8080/"
        },
        "id": "o6w5TAXg3NmR",
        "outputId": "f2a1ad2c-e8c9-4042-b017-267a7ece9270"
      },
      "execution_count": null,
      "outputs": [
        {
          "output_type": "execute_result",
          "data": {
            "text/plain": [
              "DataFrame[video_id: string, trending_date: string, title: string, channel_title: string, category_id: string, publish_time: string, tags: string, views: string, likes: string, dislikes: string, comment_count: string, thumbnail_link: string, comments_disabled: string, ratings_disabled: string, video_error_or_removed: string, description: string]"
            ]
          },
          "metadata": {},
          "execution_count": 15
        }
      ]
    },
    {
      "cell_type": "code",
      "source": [
        "# Delete thumbnail_link, comments_disabled, ratings_disabled, video_error_or_removed columns if necessary (there are multiple entries of the same video_id if the video is put on the trending page more than once)\n",
        "\n",
        "def initial_clean(df):\n",
        "  df = df.drop('thumbnail_link') # Drop the thumbnail column\n",
        "  df = df.drop('description') # Drop the description column\n",
        "\n",
        "  df = df.filter(us_df.video_error_or_removed == False) # Delete rows that had a video error or were removed\n",
        "  df = df.drop('video_error_or_removed') # Don't need the video error or removed column anymore --> not needed for the analysis\n",
        "\n",
        "  return df\n",
        "\n",
        "us_df = initial_clean(us_df)"
      ],
      "metadata": {
        "id": "PWigseEo3Qdz"
      },
      "execution_count": null,
      "outputs": []
    },
    {
      "cell_type": "code",
      "source": [
        "# Change the default schema of the US data frame as a general function\n",
        "from pyspark.sql import functions as F # allows you to use DataFrame, math, collection, datetime, aggregate, sort, etc. functions\n",
        "from pyspark.sql import types as T # allows you to use different data type transformations in DataFrames\n",
        "\n",
        "from pyspark.sql.functions import regexp_replace\n",
        "#sqlContext = SQLContext(sc) # Create a sql context from the spark context\n",
        "#us_df = sqlcontext.inferSchema(us_df.rdd) # Infer the schema of underlying RDD- did not work\n",
        "\n",
        "def changeYoutubeDataTypes(df):\n",
        "  df = df.withColumn(\"category_id\", F.col(\"category_id\").cast(\"int\")) # Change the type of the category_id column into an int from string\n",
        "  df = df.withColumn(\"publish_time\", F.col(\"publish_time\").cast(\"timestamp\")) # Change the type of the publish_time column into a timestamp from string\n",
        "  df = df.withColumn(\"publish_date\", F.to_date(F.col(\"publish_time\"))) # Extract the date from the timestamp to measure difference in days between trending date and publish date\n",
        "  df = df.drop(\"publish_time\")\n",
        "  df = df.withColumn(\"views\", F.col(\"views\").cast(\"int\")) # Change the type of the views column into an int from string\n",
        "  df = df.withColumn(\"likes\", F.col(\"likes\").cast(\"int\")) # Change the type of the likes column into an int from string\n",
        "  df = df.withColumn(\"dislikes\", F.col(\"dislikes\").cast(\"int\")) # Change the type of the dislikes column into an int from string\n",
        "  df = df.withColumn(\"comment_count\", F.col(\"comment_count\").cast(\"int\")) # Change the type of the comment_count column into an int from string\n",
        "  \n",
        "  return df\n",
        "\n",
        "\n",
        "us_df = changeYoutubeDataTypes(us_df) # Use the function on all data frames\n",
        "us_df.printSchema() # Print the new schema of the data frame"
      ],
      "metadata": {
        "colab": {
          "base_uri": "https://localhost:8080/"
        },
        "id": "l-iZdLMr3UBy",
        "outputId": "3cd7c1a2-4833-48fc-f2a9-0f16e64f9035"
      },
      "execution_count": null,
      "outputs": [
        {
          "output_type": "stream",
          "name": "stdout",
          "text": [
            "root\n",
            " |-- video_id: string (nullable = true)\n",
            " |-- trending_date: string (nullable = true)\n",
            " |-- title: string (nullable = true)\n",
            " |-- channel_title: string (nullable = true)\n",
            " |-- category_id: integer (nullable = true)\n",
            " |-- tags: string (nullable = true)\n",
            " |-- views: integer (nullable = true)\n",
            " |-- likes: integer (nullable = true)\n",
            " |-- dislikes: integer (nullable = true)\n",
            " |-- comment_count: integer (nullable = true)\n",
            " |-- comments_disabled: string (nullable = true)\n",
            " |-- ratings_disabled: string (nullable = true)\n",
            " |-- publish_date: date (nullable = true)\n",
            "\n"
          ]
        }
      ]
    },
    {
      "cell_type": "code",
      "source": [
        "# Add a time_diff column to measure the difference in time between trending and posting\n",
        "import pandas as pd\n",
        "\n",
        "def create_days_trending(df): # To create our response variable, days_to_trending\n",
        "  pd_df = df.toPandas()\n",
        "  pd_df[\"trending_date\"] = \"20\" + pd_df[\"trending_date\"]\n",
        "  pd_df[\"trending_date_new\"] = pd.to_datetime(pd_df[\"trending_date\"], format = \"%Y.%d.%m\").dt.strftime(\"%Y-%m-%d\") # Change the trending_date col of string type to datetime in pandas and change the format to date in spark\n",
        "  df = spark.createDataFrame(pd_df)\n",
        "  df = df.withColumn(\"trending_date_new\", F.col(\"trending_date_new\").cast(\"date\")) # Change the data type of the trending_date column from string\n",
        "  df = df.withColumn(\"days_to_trending\", F.datediff(F.col(\"trending_date_new\"),F.col(\"publish_date\"))) # Create a new column that finds the difference between publish and trending date, our response var\n",
        "  df = df.drop(\"trending_date\")\n",
        "\n",
        "  df = df.withColumn(\"views_growth\", F.col(\"views\") / F.col(\"days_to_trending\")) # Create a column to represent average view growth rate for the trending videos as a predictor using new days_to_trending col\n",
        "  return df\n",
        "\n",
        "us_df = create_days_trending(us_df)\n"
      ],
      "metadata": {
        "id": "ekxJblYp3XMN"
      },
      "execution_count": null,
      "outputs": []
    },
    {
      "cell_type": "code",
      "source": [
        "from pyspark.ml.feature import StringIndexer, OneHotEncoder, VectorAssembler # StringIndexer creates dummy vars out of categorical columns, VectorAssembler combines multiple columns into a single column\n",
        "\n",
        "comments_indexer = StringIndexer(inputCol = \"comments_disabled\", outputCol = \"comments_disabled_ind\")\n",
        "ratings_indexer = StringIndexer(inputCol = \"ratings_disabled\", outputCol = \"ratings_disabled_ind\")\n",
        "\n"
      ],
      "metadata": {
        "id": "UCIcoU813Zmo"
      },
      "execution_count": null,
      "outputs": []
    },
    {
      "cell_type": "code",
      "source": [
        "from IPython.core.pylabtools import figsize\n",
        "import matplotlib.pyplot as plt\n",
        "\n",
        "# Compare with google trends data to convert the word/phrase into a google trend score and that score predicts the trending date (create two columns, \n",
        "# one to measure commonality of words/phrases in youtube trending and the other to measure google trending)\n",
        "# import the TrendReq method from the pytrends request module\n",
        "\n",
        "from pytrends.request import TrendReq\n",
        "from pylab import *\n",
        "from pytrends.exceptions import ResponseError\n",
        "import random\n",
        "\n",
        "pytrends = TrendReq()\n",
        "\n",
        "def tokenize_cols(df):\n",
        "  #import sparknlp\n",
        "  #from sparknlp.pretrained import PretrainedPipeline\n",
        "\n",
        "  #nlp = sparknlp.start()\n",
        "  from pyspark.ml.feature import Tokenizer, RegexTokenizer\n",
        "\n",
        "  tokenizer_title = RegexTokenizer(inputCol = \"title\", outputCol = \"title_keywords\", pattern = \"[\\\\W | 0-9]\") # Separate the words of the title and save the words in an array\n",
        "  df = tokenizer_title.transform(df)\n",
        "\n",
        "  tokenizer_tags = RegexTokenizer(inputCol = \"tags\", outputCol = \"tag_keywords\", pattern = \"\\|\") # Separates the tags of the videos and saves them into an array\n",
        "  df = tokenizer_tags.transform(df)\n",
        "\n",
        "  df = df.drop(\"title\", \"tags\", \"description\") # Drops the string columns from the df\n",
        "  df = df.withColumn(\"time_frame_to_trend\", F.concat(F.col(\"publish_date\"), F.lit(\" \"), F.col(\"trending_date_new\")))\n",
        "  \n",
        "  return df\n",
        "\n",
        "def getKeyWords(word_arry): # return only words 4 letters long or above\n",
        "  # execute the TrendReq method by passing the host language (hl) and timezone (tz) parameters\n",
        "\n",
        "  word_arry = [x for x in word_arry if len(x) >= 4] # Only keeps words at least 4 characters long\n",
        "  \n",
        "  return word_arry\n",
        "\n",
        "#us_df = tokenize_cols(us_df)\n",
        "\n",
        "yt_trend_udf = F.udf(lambda x: getKeyWords(x), T.ArrayType(T.StringType()))\n",
        "us_df = us_df.withColumn(\"title_keywords\", F.array_distinct(F.col(\"title_keywords\")))\n",
        "us_df = us_df.withColumn(\"title_keywords\", yt_trend_udf(\"title_keywords\"))\n",
        "us_df = us_df.withColumn(\"tag_keywords\", yt_trend_udf(\"tag_keywords\"))\n",
        "\n",
        "trends_df = us_df.select(us_df.video_id, F.explode(us_df.title_keywords)).groupBy(\"col\").count().sort(\"count\", ascending = False).toPandas()\n",
        "tag_trends_df = us_df.select(us_df.video_id, F.explode(us_df.tag_keywords)).groupBy(\"col\").count().sort(\"count\", ascending = False).toPandas()\n",
        "\n",
        "trends_top20 = trends_df.iloc[:21]\n",
        "tag_trends_top20 = tag_trends_df.iloc[:21]\n",
        "\n",
        "plt.subplots(figsize = (20,10))\n",
        "plt.bar(trends_top20[\"col\"], trends_top20[\"count\"])\n",
        "plt.title(\"2017-2018 Top Youtube Trending Title Keywords\")\n",
        "plt.ylabel(\"Number of Videos\")\n",
        "plt.xlabel(\"Title Keywords\")\n",
        "plt.show()\n",
        "\n",
        "plt.subplots(figsize = (20,10))\n",
        "plt.bar(tag_trends_top20[\"col\"], tag_trends_top20[\"count\"])\n",
        "plt.title(\"2017-2018 Top Youtube Trending Tags\")\n",
        "plt.ylabel(\"Number of Videos\")\n",
        "plt.xlabel(\"Tags\")\n",
        "plt.show()\n",
        "\n",
        "\n",
        "\n"
      ],
      "metadata": {
        "id": "PMHvoQBI3cG1",
        "colab": {
          "base_uri": "https://localhost:8080/",
          "height": 1000
        },
        "outputId": "625b18b6-b9eb-474d-fa13-838c879c2b57"
      },
      "execution_count": null,
      "outputs": [
        {
          "output_type": "display_data",
          "data": {
            "text/plain": [
              "<Figure size 1440x720 with 1 Axes>"
            ],
            "image/png": "[encoded data removed]"
          },
          "metadata": {
            "needs_background": "light"
          }
        },
        {
          "output_type": "display_data",
          "data": {
            "text/plain": [
              "<Figure size 1440x720 with 1 Axes>"
            ],
            "image/png": "[encoded data removed]"
          },
          "metadata": {
            "needs_background": "light"
          }
        }
      ]
    },
    {
      "cell_type": "code",
      "source": [
        "\"\"\"import pandas as pd     \n",
        "import numpy as np                   \n",
        "from pytrends.request import TrendReq\n",
        "pytrend = TrendReq()\n",
        "\n",
        "#provide your search terms\n",
        "kw_list=['Facebook', 'Apple', 'Amazon', 'Netflix', 'Google']\n",
        "\n",
        "#search interest per region\n",
        "#run model for keywords (can also be competitors)\n",
        "beg = '2022-05-20'\n",
        "end = '2022-05-21'\n",
        "tme = beg + \" \" + end\n",
        "\n",
        "pytrend.build_payload(kw_list, timeframe = tme)\n",
        "\n",
        "scores_df = pytrend.interest_over_time() # create a dataframe out of the trending scores\n",
        "score_array = [] # Create an empty array to hold the average Google Trending Score\n",
        "score_array = scores_df.mean()\"\"\"\n",
        "  \n"
      ],
      "metadata": {
        "colab": {
          "base_uri": "https://localhost:8080/",
          "height": 70
        },
        "id": "Wcfdy_TD4h48",
        "outputId": "9f8f7450-47d1-49e1-d184-d4f9dde3ea7b"
      },
      "execution_count": null,
      "outputs": [
        {
          "output_type": "execute_result",
          "data": {
            "text/plain": [
              "'import pandas as pd     \\nimport numpy as np                   \\nfrom pytrends.request import TrendReq\\npytrend = TrendReq()\\n\\n#provide your search terms\\nkw_list=[\\'Facebook\\', \\'Apple\\', \\'Amazon\\', \\'Netflix\\', \\'Google\\']\\n\\n#search interest per region\\n#run model for keywords (can also be competitors)\\nbeg = \\'2022-05-20\\'\\nend = \\'2022-05-21\\'\\ntme = beg + \" \" + end\\n\\npytrend.build_payload(kw_list, timeframe = tme)\\n\\nscores_df = pytrend.interest_over_time() # create a dataframe out of the trending scores\\nscore_array = [] # Create an empty array to hold the average Google Trending Score\\nscore_array = scores_df.mean()'"
            ],
            "application/vnd.google.colaboratory.intrinsic+json": {
              "type": "string"
            }
          },
          "metadata": {},
          "execution_count": 21
        }
      ]
    },
    {
      "cell_type": "code",
      "source": [
        "# Build data model to predict trending date with at least title, tags, description(?), views growth rate, total views, likes, dislikes, comment_count, category using 2017-2018 data\n",
        "from pyspark.ml import Pipeline\n",
        "from pyspark.ml.feature import VectorAssembler\n",
        "from pyspark.ml.regression import RandomForestRegressor # Use the flexible ML method RF to predict days_to_trending\n",
        "from pyspark.ml.evaluation import RegressionEvaluator # To evaluate our RF model\n",
        "\n",
        "us_df = us_df.na.drop()\n",
        "\n",
        "(train_df, test_df) = us_df.randomSplit([0.7, 0.3], 8)\n",
        "# Convert features into vector (Change this to fit youtube trending data)\n",
        "inputCols = [\"category_id\", \"views\", \"likes\", \"dislikes\", \"comment_count\", \"views_growth\", \"comments_disabled_ind\", \"ratings_disabled_ind\"]\n",
        "outputCol = \"trending_features\"\n",
        "vector_assembler = VectorAssembler(inputCols = inputCols, outputCol = outputCol)\n",
        "\n",
        "# Create RandomForestClassifier model\n",
        "rf_model = RandomForestRegressor(featuresCol = \"trending_features\", labelCol = \"days_to_trending\", maxDepth = 5, impurity = 'variance')\n",
        "\n",
        "# Build pipeline for the whole data model\n",
        "yt_pipeline = Pipeline(stages=[comments_indexer, ratings_indexer, vector_assembler, rf_model])\n",
        "\n",
        "# Fit the pipeline model\n",
        "final_pipeline = yt_pipeline.fit(train_df)\n",
        "\n",
        "# Do predictions on train data\n",
        "predictions = final_pipeline.transform(train_df)\n",
        "predictions.show(5, truncate=False)\n",
        "\n",
        "# Predictions on test data\n",
        "test_predictions_from_pipeline = final_pipeline.transform(test_df)\n",
        "\n",
        "test_predictions_from_pipeline.show(5, truncate=False)\n",
        "\n",
        "# Show accuracy of training vs test predictions\n",
        "yt_evaluator = RegressionEvaluator(labelCol = \"days_to_trending\")\n",
        "print(yt_evaluator.evaluate(predictions))\n",
        "\n",
        "print(yt_evaluator.evaluate(test_predictions_from_pipeline))\n",
        "\n",
        "# Explore which predictors which were most helpful in predicting days_to_trending\n",
        "final_pipeline.stages[-1].featureImportances"
      ],
      "metadata": {
        "colab": {
          "base_uri": "https://localhost:8080/"
        },
        "id": "AOonD2NV3fv0",
        "outputId": "453ec378-4bde-448c-b8b4-83c7851eb482"
      },
      "execution_count": null,
      "outputs": [
        {
          "output_type": "stream",
          "name": "stdout",
          "text": [
            "+-----------+----------------------+-----------+------+-----+--------+-------------+-----------------+----------------+------------+-----------------+----------------+------------------+-----------------------------------------------------------------------------+--------------------------------------------------------------------------------------------------------------------------------------------------------------------------------------------------------------------------------------------------------------------------------------------------------------------------------------------------------------------------------------------------------------------------------------+---------------------+---------------------+--------------------+------------------------------------------------------------+------------------+\n",
            "|video_id   |channel_title         |category_id|views |likes|dislikes|comment_count|comments_disabled|ratings_disabled|publish_date|trending_date_new|days_to_trending|views_growth      |title_keywords                                                               |tag_keywords                                                                                                                                                                                                                                                                                                                                                                                                                          |time_frame_to_trend  |comments_disabled_ind|ratings_disabled_ind|trending_features                                           |prediction        |\n",
            "+-----------+----------------------+-----------+------+-----+--------+-------------+-----------------+----------------+------------+-----------------+----------------+------------------+-----------------------------------------------------------------------------+--------------------------------------------------------------------------------------------------------------------------------------------------------------------------------------------------------------------------------------------------------------------------------------------------------------------------------------------------------------------------------------------------------------------------------------+---------------------+---------------------+--------------------+------------------------------------------------------------+------------------+\n",
            "|-0NYY8cqdiQ|TheEllenShow          |24         |563746|4429 |54      |94           |False            |False           |2018-01-29  |2018-02-01       |3               |187915.33333333334|[megan, mullally, didn, notice, interesting, pattern, with, ellen, roommates]|[\"megan mullally\", \"megan\", \"mullally\", \"will and grace\", \"karen on will and grace\", \"actress\", \"nick offerman\", \"ellen\", \"degeneres\", \"ellen degeneres\", \"the ellen show\", \"ellen fans\", \"ellen tickets\", \"ellentube\", \"ellen audience\", \"will\", \"grace\", \"karen\", \"roomats\", \"funny\", \"interview\", \"nick\", \"offerman\", \"wedding\", \"marriage\", \"roomates\", \"story\", \"hilarious\", \"bobs burgers\", \"emmy\", \"hobby\", \"females\", \"naive\"]|2018-01-29 2018-02-01|0.0                  |0.0                 |[24.0,563746.0,4429.0,54.0,94.0,187915.33333333334,0.0,0.0] |8.11189975215891  |\n",
            "|-1yT-K3c6YI|Molly Burke           |22         |198315|6950 |184     |735          |False            |False           |2017-11-28  |2017-11-30       |2               |99157.5           |[youtuber, quiz, truth, dare, merrell, twins]                                |[\"youtube quiz\", \"youtuber quiz\", \"truth or dare\", \"exposed\", \"youtube crush\", \"molly burk\", \"collab\", \"collaboration\"]                                                                                                                                                                                                                                                                                                               |2017-11-28 2017-11-30|0.0                  |0.0                 |[22.0,198315.0,6950.0,184.0,735.0,99157.5,0.0,0.0]          |5.238963394621678 |\n",
            "|-1yT-K3c6YI|Molly Burke           |22         |218227|7407 |209     |831          |False            |False           |2017-11-28  |2017-12-01       |3               |72742.33333333333 |[youtuber, quiz, truth, dare, merrell, twins]                                |[\"youtube quiz\", \"youtuber quiz\", \"truth or dare\", \"exposed\", \"youtube crush\", \"molly burk\", \"collab\", \"collaboration\"]                                                                                                                                                                                                                                                                                                               |2017-11-28 2017-12-01|0.0                  |0.0                 |[22.0,218227.0,7407.0,209.0,831.0,72742.33333333333,0.0,0.0]|5.392265040528838 |\n",
            "|-2RVw2_QyxQ|Saint Louis Chess Club|27         |67429 |438  |23      |23           |False            |False           |2017-11-12  |2017-11-14       |2               |33714.5           |[champions, showdown]                                                        |[\"chess\", \"saint louis\", \"club\"]                                                                                                                                                                                                                                                                                                                                                                                                      |2017-11-12 2017-11-14|0.0                  |0.0                 |[27.0,67429.0,438.0,23.0,23.0,33714.5,0.0,0.0]              |33.665225812491194|\n",
            "|-2RVw2_QyxQ|Saint Louis Chess Club|27         |69786 |453  |26      |19           |False            |False           |2017-11-12  |2017-11-15       |3               |23262.0           |[champions, showdown]                                                        |[\"chess\", \"saint louis\", \"club\"]                                                                                                                                                                                                                                                                                                                                                                                                      |2017-11-12 2017-11-15|0.0                  |0.0                 |[27.0,69786.0,453.0,26.0,19.0,23262.0,0.0,0.0]              |33.665225812491194|\n",
            "+-----------+----------------------+-----------+------+-----+--------+-------------+-----------------+----------------+------------+-----------------+----------------+------------------+-----------------------------------------------------------------------------+--------------------------------------------------------------------------------------------------------------------------------------------------------------------------------------------------------------------------------------------------------------------------------------------------------------------------------------------------------------------------------------------------------------------------------------+---------------------+---------------------+--------------------+------------------------------------------------------------+------------------+\n",
            "only showing top 5 rows\n",
            "\n",
            "+-----------+-------------+-----------+------+-----+--------+-------------+-----------------+----------------+------------+-----------------+----------------+------------------+----------------------------------------------------------+---------------------------------------------------------------------------------------------------------------------------------------------------------------------------------------------------------------------------------------------------------------------------------------+---------------------+---------------------+--------------------+-----------------------------------------------------+------------------+\n",
            "|video_id   |channel_title|category_id|views |likes|dislikes|comment_count|comments_disabled|ratings_disabled|publish_date|trending_date_new|days_to_trending|views_growth      |title_keywords                                            |tag_keywords                                                                                                                                                                                                                                                                           |time_frame_to_trend  |comments_disabled_ind|ratings_disabled_ind|trending_features                                    |prediction        |\n",
            "+-----------+-------------+-----------+------+-----+--------+-------------+-----------------+----------------+------------+-----------------+----------------+------------------+----------------------------------------------------------+---------------------------------------------------------------------------------------------------------------------------------------------------------------------------------------------------------------------------------------------------------------------------------------+---------------------+---------------------+--------------------+-----------------------------------------------------+------------------+\n",
            "|-1yT-K3c6YI|Molly Burke  |22         |129360|5214 |108     |516          |False            |False           |2017-11-28  |2017-11-29       |1               |129360.0          |[youtuber, quiz, truth, dare, merrell, twins]             |[\"youtube quiz\", \"youtuber quiz\", \"truth or dare\", \"exposed\", \"youtube crush\", \"molly burk\", \"collab\", \"collaboration\"]                                                                                                                                                                |2017-11-28 2017-11-29|0.0                  |0.0                 |[22.0,129360.0,5214.0,108.0,516.0,129360.0,0.0,0.0]  |4.4447469808000815|\n",
            "|-1yT-K3c6YI|Molly Burke  |22         |231341|7734 |212     |846          |False            |False           |2017-11-28  |2017-12-02       |4               |57835.25          |[youtuber, quiz, truth, dare, merrell, twins]             |[\"youtube quiz\", \"youtuber quiz\", \"truth or dare\", \"exposed\", \"youtube crush\", \"molly burk\", \"collab\", \"collaboration\"]                                                                                                                                                                |2017-11-28 2017-12-02|0.0                  |0.0                 |[22.0,231341.0,7734.0,212.0,846.0,57835.25,0.0,0.0]  |5.3542461495743385|\n",
            "|-2wRFv-mScQ|NBA          |17         |900722|11655|348     |669          |False            |False           |2018-02-13  |2018-02-15       |2               |450361.0          |[moments, star, celebrity, game]                          |[\"nba\", \"highlights\", \"basketball\", \"plays\", \"amazing\", \"sports\", \"hoops\", \"finals\", \"games\", \"game\", \"all star game\", \"celebrity all-star game\", \"usain bolt\", \"justin bieber\", \"j-cole\", \"spin move\", \"crossover\", \"best moment\", \"celebrity\", \"celebrities\", \"nba all star weekend\"]|2018-02-13 2018-02-15|0.0                  |0.0                 |[17.0,900722.0,11655.0,348.0,669.0,450361.0,0.0,0.0] |4.905000786712152 |\n",
            "|-35jibKqbEo|Alan Walker  |10         |545655|73480|727     |6157         |False            |False           |2018-02-14  |2018-02-15       |1               |545655.0          |[kygo, stranger, things, onerepublic, alan, walker, remix]|[\"alan walker\", \"kygo\", \"one republic\", \"stranger things\", \"house\", \"techno\", \"dj walkzz\", \"k-391\", \"remix\", \"new song\", \"2018\", \"worldofwalker\", \"faded\", \"the spectre\", \"all falls down\", \"sing me to sleep\", \"norway\", \"edm\", \"electro\", \"lyrics\", \"allan\", \"valker\", \"onerepublic\"]|2018-02-14 2018-02-15|0.0                  |0.0                 |[10.0,545655.0,73480.0,727.0,6157.0,545655.0,0.0,0.0]|5.640474620534546 |\n",
            "|-37nIo_tLnk|vnbreyes     |17         |2863  |2    |0       |0            |False            |False           |2009-12-15  |2017-12-26       |2933            |0.9761336515513126|[christmas]                                               |[\"christmas\", \"day\", \"2000\", \"wallace\", \"lakers\", \"blazers\"]                                                                                                                                                                                                                           |2009-12-15 2017-12-26|0.0                  |0.0                 |(8,[0,1,2,5],[17.0,2863.0,2.0,0.9761336515513126])   |254.40295603229956|\n",
            "+-----------+-------------+-----------+------+-----+--------+-------------+-----------------+----------------+------------+-----------------+----------------+------------------+----------------------------------------------------------+---------------------------------------------------------------------------------------------------------------------------------------------------------------------------------------------------------------------------------------------------------------------------------------+---------------------+---------------------+--------------------+-----------------------------------------------------+------------------+\n",
            "only showing top 5 rows\n",
            "\n",
            "98.90157433031268\n",
            "119.73003286249555\n"
          ]
        },
        {
          "output_type": "execute_result",
          "data": {
            "text/plain": [
              "SparseVector(8, {0: 0.1346, 1: 0.3316, 2: 0.0492, 3: 0.126, 4: 0.0543, 5: 0.2755, 6: 0.0047, 7: 0.024})"
            ]
          },
          "metadata": {},
          "execution_count": 27
        }
      ]
    },
    {
      "cell_type": "code",
      "source": [
        "# Use Decision Tree Regressor and compare it to Random Forests\n",
        "\n",
        "from pyspark.ml.regression import DecisionTreeRegressor\n",
        "\n",
        "(train_df, test_df) = us_df.randomSplit([0.7, 0.3], 8)\n",
        "# Convert features into vecotor (Change this to fit youtube trending data)\n",
        "inputCols = [\"category_id\", \"views\", \"likes\", \"dislikes\", \"comment_count\", \"views_growth\", \"comments_disabled_ind\", \"ratings_disabled_ind\"]\n",
        "outputCol = \"trending_features\"\n",
        "vector_assembler = VectorAssembler(inputCols = inputCols, outputCol = outputCol)\n",
        "\n",
        "# Create RandomForestClassifier model\n",
        "dt_model = DecisionTreeRegressor(featuresCol = \"trending_features\", labelCol = \"days_to_trending\", maxDepth = 5, impurity = 'variance')\n",
        "\n",
        "# Build pipeline for the whole data model\n",
        "yt_pipeline = Pipeline(stages=[comments_indexer, ratings_indexer, vector_assembler, dt_model])\n",
        "\n",
        "# Fit the pipeline model\n",
        "final_pipeline = yt_pipeline.fit(train_df)\n",
        "\n",
        "# Do predictions on train data\n",
        "predictions = final_pipeline.transform(train_df)\n",
        "predictions.show(5, truncate=False)\n",
        "\n",
        "# Predictions on test data\n",
        "test_predictions_from_pipeline = final_pipeline.transform(test_df)\n",
        "\n",
        "test_predictions_from_pipeline.show(5, truncate=False)\n",
        "\n",
        "# Show accuracy of training vs test predictions\n",
        "yt_evaluator = RegressionEvaluator(labelCol = \"days_to_trending\")\n",
        "print(yt_evaluator.evaluate(predictions))\n",
        "\n",
        "print(yt_evaluator.evaluate(test_predictions_from_pipeline))\n",
        "\n",
        "# Explore which predictors which were most helpful in predicting days_to_trending\n",
        "final_pipeline.stages[-1].featureImportances"
      ],
      "metadata": {
        "colab": {
          "base_uri": "https://localhost:8080/"
        },
        "id": "f12BKtrVeEdk",
        "outputId": "dc376e14-d330-4066-a37e-e065da660a21"
      },
      "execution_count": null,
      "outputs": [
        {
          "output_type": "stream",
          "name": "stdout",
          "text": [
            "+-----------+----------------------+-----------+------+-----+--------+-------------+-----------------+----------------+------------+-----------------+----------------+------------------+-----------------------------------------------------------------------------+--------------------------------------------------------------------------------------------------------------------------------------------------------------------------------------------------------------------------------------------------------------------------------------------------------------------------------------------------------------------------------------------------------------------------------------+---------------------+---------------------+--------------------+------------------------------------------------------------+------------------+\n",
            "|video_id   |channel_title         |category_id|views |likes|dislikes|comment_count|comments_disabled|ratings_disabled|publish_date|trending_date_new|days_to_trending|views_growth      |title_keywords                                                               |tag_keywords                                                                                                                                                                                                                                                                                                                                                                                                                          |time_frame_to_trend  |comments_disabled_ind|ratings_disabled_ind|trending_features                                           |prediction        |\n",
            "+-----------+----------------------+-----------+------+-----+--------+-------------+-----------------+----------------+------------+-----------------+----------------+------------------+-----------------------------------------------------------------------------+--------------------------------------------------------------------------------------------------------------------------------------------------------------------------------------------------------------------------------------------------------------------------------------------------------------------------------------------------------------------------------------------------------------------------------------+---------------------+---------------------+--------------------+------------------------------------------------------------+------------------+\n",
            "|-0NYY8cqdiQ|TheEllenShow          |24         |563746|4429 |54      |94           |False            |False           |2018-01-29  |2018-02-01       |3               |187915.33333333334|[megan, mullally, didn, notice, interesting, pattern, with, ellen, roommates]|[\"megan mullally\", \"megan\", \"mullally\", \"will and grace\", \"karen on will and grace\", \"actress\", \"nick offerman\", \"ellen\", \"degeneres\", \"ellen degeneres\", \"the ellen show\", \"ellen fans\", \"ellen tickets\", \"ellentube\", \"ellen audience\", \"will\", \"grace\", \"karen\", \"roomats\", \"funny\", \"interview\", \"nick\", \"offerman\", \"wedding\", \"marriage\", \"roomates\", \"story\", \"hilarious\", \"bobs burgers\", \"emmy\", \"hobby\", \"females\", \"naive\"]|2018-01-29 2018-02-01|0.0                  |0.0                 |[24.0,563746.0,4429.0,54.0,94.0,187915.33333333334,0.0,0.0] |2.6919786096256684|\n",
            "|-1yT-K3c6YI|Molly Burke           |22         |198315|6950 |184     |735          |False            |False           |2017-11-28  |2017-11-30       |2               |99157.5           |[youtuber, quiz, truth, dare, merrell, twins]                                |[\"youtube quiz\", \"youtuber quiz\", \"truth or dare\", \"exposed\", \"youtube crush\", \"molly burk\", \"collab\", \"collaboration\"]                                                                                                                                                                                                                                                                                                               |2017-11-28 2017-11-30|0.0                  |0.0                 |[22.0,198315.0,6950.0,184.0,735.0,99157.5,0.0,0.0]          |4.249854622988951 |\n",
            "|-1yT-K3c6YI|Molly Burke           |22         |218227|7407 |209     |831          |False            |False           |2017-11-28  |2017-12-01       |3               |72742.33333333333 |[youtuber, quiz, truth, dare, merrell, twins]                                |[\"youtube quiz\", \"youtuber quiz\", \"truth or dare\", \"exposed\", \"youtube crush\", \"molly burk\", \"collab\", \"collaboration\"]                                                                                                                                                                                                                                                                                                               |2017-11-28 2017-12-01|0.0                  |0.0                 |[22.0,218227.0,7407.0,209.0,831.0,72742.33333333333,0.0,0.0]|6.673832923832924 |\n",
            "|-2RVw2_QyxQ|Saint Louis Chess Club|27         |67429 |438  |23      |23           |False            |False           |2017-11-12  |2017-11-14       |2               |33714.5           |[champions, showdown]                                                        |[\"chess\", \"saint louis\", \"club\"]                                                                                                                                                                                                                                                                                                                                                                                                      |2017-11-12 2017-11-14|0.0                  |0.0                 |[27.0,67429.0,438.0,23.0,23.0,33714.5,0.0,0.0]              |4.249854622988951 |\n",
            "|-2RVw2_QyxQ|Saint Louis Chess Club|27         |69786 |453  |26      |19           |False            |False           |2017-11-12  |2017-11-15       |3               |23262.0           |[champions, showdown]                                                        |[\"chess\", \"saint louis\", \"club\"]                                                                                                                                                                                                                                                                                                                                                                                                      |2017-11-12 2017-11-15|0.0                  |0.0                 |[27.0,69786.0,453.0,26.0,19.0,23262.0,0.0,0.0]              |4.249854622988951 |\n",
            "+-----------+----------------------+-----------+------+-----+--------+-------------+-----------------+----------------+------------+-----------------+----------------+------------------+-----------------------------------------------------------------------------+--------------------------------------------------------------------------------------------------------------------------------------------------------------------------------------------------------------------------------------------------------------------------------------------------------------------------------------------------------------------------------------------------------------------------------------+---------------------+---------------------+--------------------+------------------------------------------------------------+------------------+\n",
            "only showing top 5 rows\n",
            "\n",
            "+-----------+-------------+-----------+------+-----+--------+-------------+-----------------+----------------+------------+-----------------+----------------+------------------+----------------------------------------------------------+---------------------------------------------------------------------------------------------------------------------------------------------------------------------------------------------------------------------------------------------------------------------------------------+---------------------+---------------------+--------------------+-----------------------------------------------------+------------------+\n",
            "|video_id   |channel_title|category_id|views |likes|dislikes|comment_count|comments_disabled|ratings_disabled|publish_date|trending_date_new|days_to_trending|views_growth      |title_keywords                                            |tag_keywords                                                                                                                                                                                                                                                                           |time_frame_to_trend  |comments_disabled_ind|ratings_disabled_ind|trending_features                                    |prediction        |\n",
            "+-----------+-------------+-----------+------+-----+--------+-------------+-----------------+----------------+------------+-----------------+----------------+------------------+----------------------------------------------------------+---------------------------------------------------------------------------------------------------------------------------------------------------------------------------------------------------------------------------------------------------------------------------------------+---------------------+---------------------+--------------------+-----------------------------------------------------+------------------+\n",
            "|-1yT-K3c6YI|Molly Burke  |22         |129360|5214 |108     |516          |False            |False           |2017-11-28  |2017-11-29       |1               |129360.0          |[youtuber, quiz, truth, dare, merrell, twins]             |[\"youtube quiz\", \"youtuber quiz\", \"truth or dare\", \"exposed\", \"youtube crush\", \"molly burk\", \"collab\", \"collaboration\"]                                                                                                                                                                |2017-11-28 2017-11-29|0.0                  |0.0                 |[22.0,129360.0,5214.0,108.0,516.0,129360.0,0.0,0.0]  |2.6919786096256684|\n",
            "|-1yT-K3c6YI|Molly Burke  |22         |231341|7734 |212     |846          |False            |False           |2017-11-28  |2017-12-02       |4               |57835.25          |[youtuber, quiz, truth, dare, merrell, twins]             |[\"youtube quiz\", \"youtuber quiz\", \"truth or dare\", \"exposed\", \"youtube crush\", \"molly burk\", \"collab\", \"collaboration\"]                                                                                                                                                                |2017-11-28 2017-12-02|0.0                  |0.0                 |[22.0,231341.0,7734.0,212.0,846.0,57835.25,0.0,0.0]  |6.673832923832924 |\n",
            "|-2wRFv-mScQ|NBA          |17         |900722|11655|348     |669          |False            |False           |2018-02-13  |2018-02-15       |2               |450361.0          |[moments, star, celebrity, game]                          |[\"nba\", \"highlights\", \"basketball\", \"plays\", \"amazing\", \"sports\", \"hoops\", \"finals\", \"games\", \"game\", \"all star game\", \"celebrity all-star game\", \"usain bolt\", \"justin bieber\", \"j-cole\", \"spin move\", \"crossover\", \"best moment\", \"celebrity\", \"celebrities\", \"nba all star weekend\"]|2018-02-13 2018-02-15|0.0                  |0.0                 |[17.0,900722.0,11655.0,348.0,669.0,450361.0,0.0,0.0] |2.437860082304527 |\n",
            "|-35jibKqbEo|Alan Walker  |10         |545655|73480|727     |6157         |False            |False           |2018-02-14  |2018-02-15       |1               |545655.0          |[kygo, stranger, things, onerepublic, alan, walker, remix]|[\"alan walker\", \"kygo\", \"one republic\", \"stranger things\", \"house\", \"techno\", \"dj walkzz\", \"k-391\", \"remix\", \"new song\", \"2018\", \"worldofwalker\", \"faded\", \"the spectre\", \"all falls down\", \"sing me to sleep\", \"norway\", \"edm\", \"electro\", \"lyrics\", \"allan\", \"valker\", \"onerepublic\"]|2018-02-14 2018-02-15|0.0                  |0.0                 |[10.0,545655.0,73480.0,727.0,6157.0,545655.0,0.0,0.0]|1.3804347826086956|\n",
            "|-37nIo_tLnk|vnbreyes     |17         |2863  |2    |0       |0            |False            |False           |2009-12-15  |2017-12-26       |2933            |0.9761336515513126|[christmas]                                               |[\"christmas\", \"day\", \"2000\", \"wallace\", \"lakers\", \"blazers\"]                                                                                                                                                                                                                           |2009-12-15 2017-12-26|0.0                  |0.0                 |(8,[0,1,2,5],[17.0,2863.0,2.0,0.9761336515513126])   |425.64367816091954|\n",
            "+-----------+-------------+-----------+------+-----+--------+-------------+-----------------+----------------+------------+-----------------+----------------+------------------+----------------------------------------------------------+---------------------------------------------------------------------------------------------------------------------------------------------------------------------------------------------------------------------------------------------------------------------------------------+---------------------+---------------------+--------------------+-----------------------------------------------------+------------------+\n",
            "only showing top 5 rows\n",
            "\n",
            "90.37933143015705\n",
            "112.61135033578196\n"
          ]
        },
        {
          "output_type": "execute_result",
          "data": {
            "text/plain": [
              "SparseVector(8, {0: 0.102, 1: 0.4144, 2: 0.0774, 3: 0.0808, 4: 0.0464, 5: 0.279})"
            ]
          },
          "metadata": {},
          "execution_count": 28
        }
      ]
    }
  ]
}